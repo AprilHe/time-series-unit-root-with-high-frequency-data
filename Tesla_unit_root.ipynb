{
 "cells": [
  {
   "cell_type": "code",
   "execution_count": 2,
   "metadata": {},
   "outputs": [],
   "source": [
    "import numpy as np\n",
    "import pandas as pd\n",
    "import matplotlib.pyplot as plt\n",
    "import seaborn as sns\n",
    "from scipy import stats\n",
    "\n",
    "import math\n",
    "import warnings\n",
    "warnings.filterwarnings('ignore')\n",
    "\n",
    "# Pandas options\n",
    "pd.set_option('display.max_colwidth', 1000, 'display.max_rows', 300, 'display.max_columns', None)\n",
    "\n",
    "# Plotting options\n",
    "%matplotlib inline\n",
    "\n",
    "import statsmodels.api as sm\n",
    "from statsmodels.tsa.stattools import adfuller\n",
    "from statsmodels.tsa.stattools import kpss\n",
    "\n",
    "from datetime import datetime, timedelta"
   ]
  },
  {
   "cell_type": "markdown",
   "metadata": {},
   "source": [
    "### Part 1 - Load data and data processing"
   ]
  },
  {
   "cell_type": "code",
   "execution_count": 3,
   "metadata": {},
   "outputs": [],
   "source": [
    "def load_data(path = 'TSLA.csv'):\n",
    "    \n",
    "    '''\n",
    "    \n",
    "    Load data\n",
    "\n",
    "    Args:path\n",
    "\n",
    "    Returns: dataframe   \n",
    "    \n",
    "    \n",
    "    '''\n",
    "    \n",
    "    \n",
    "    tsla = pd.read_csv(path, index_col=['Index'], parse_dates=['Index'])\n",
    "    tsla.index = tsla.index.tz_localize('Europe/Moscow')\n",
    "    tsla.index = tsla.index.tz_convert('America/New_York')\n",
    "    tsla = tsla.between_time('9:30', '16:00').reset_index()\n",
    "    tsla['day'] = pd.to_datetime(tsla.Index.dt.date)\n",
    "    tsla['time'] = tsla.Index.dt.strftime('%H:%M:%S')\n",
    "    tsla['qtr'] = tsla.Index.dt.to_period('Q')\n",
    "    tsla['month'] = tsla.Index.dt.to_period('M')\n",
    "    tsla.rename(columns = {'TSLA.Close': 'price'}, inplace = True)\n",
    "    cols = ['Index', 'day', 'time', 'qtr', 'month', 'price']\n",
    "    tsla = tsla[cols]\n",
    "    print(tsla.groupby('month')['price'].count().head(20))\n",
    "    print(tsla.shape)\n",
    "    tsla = tsla[tsla.day >= '2017-04-01'] # remove the month with a few observatiions\n",
    "    print(tsla.shape)\n",
    "    \n",
    "    # check the jump in each month and TSLA split up - 31 August 2020, move the observation on 2020.08.31 to the cohort of 2020.09 \n",
    "    x = pd.Series(np.datetime64('2020-09-01 00:00:00.000000000')).dt.to_period('M')\n",
    "    tsla.loc[(tsla.day >= '2020-08-31') & (tsla.day < '2020-10-01') , 'month'] = x[0]\n",
    "    \n",
    "    \n",
    "    return tsla"
   ]
  },
  {
   "cell_type": "code",
   "execution_count": 4,
   "metadata": {},
   "outputs": [
    {
     "name": "stdout",
     "output_type": "stream",
     "text": [
      "month\n",
      "2015-09       3\n",
      "2015-10       7\n",
      "2015-11      27\n",
      "2015-12      19\n",
      "2016-01      25\n",
      "2016-02      73\n",
      "2016-03      84\n",
      "2016-04     102\n",
      "2016-05     129\n",
      "2016-06     128\n",
      "2016-07     104\n",
      "2016-08     124\n",
      "2016-09     108\n",
      "2016-10      83\n",
      "2016-11     115\n",
      "2016-12     167\n",
      "2017-01     165\n",
      "2017-02     179\n",
      "2017-03     178\n",
      "2017-04    1370\n",
      "Freq: M, Name: price, dtype: int64\n",
      "(75137, 6)\n",
      "(73317, 6)\n"
     ]
    },
    {
     "data": {
      "image/png": "[encoded data removed]",
      "text/plain": [
       "<Figure size 1080x360 with 1 Axes>"
      ]
     },
     "metadata": {
      "needs_background": "light"
     },
     "output_type": "display_data"
    }
   ],
   "source": [
    "tsla = load_data(path = 'TSLA.csv')\n",
    "# data visulization 1\n",
    "tsla['price'].plot(figsize=(15,5), title='TSLA Price', style='.')\n",
    "plt.show()"
   ]
  },
  {
   "cell_type": "markdown",
   "metadata": {},
   "source": [
    "### Part 2 - Break the data and Formalising"
   ]
  },
  {
   "cell_type": "code",
   "execution_count": 5,
   "metadata": {},
   "outputs": [],
   "source": [
    "def break_data(data, period):\n",
    "    \n",
    "    '''  \n",
    "    divide the data by month\n",
    "\n",
    "    Args:\n",
    "    data - dataframe\n",
    "    period - month\n",
    "\n",
    "    Returns: dataframe     \n",
    "    \n",
    "    '''\n",
    "        \n",
    "        \n",
    "    df = data[data.month == period]\n",
    "    \n",
    "    # print(df.groupby('day').price.count().head())\n",
    "    \n",
    "    day = df.day.unique()\n",
    "    time =  df.time.unique()\n",
    "    D = len(day)\n",
    "    Obs = len(time)\n",
    "    DAY = np.repeat(day,Obs)\n",
    "    TIME = np.tile(time, D)\n",
    "    \n",
    "    tmp = pd.DataFrame({'day': DAY, 'time':TIME})\n",
    "    final = df.merge(tmp, how = 'outer')\n",
    "    final['Index'] = pd.to_datetime(final['day'].astype(str) + ' ' + final['time'].astype(str))\n",
    "    final['qtr'] = final.Index.dt.to_period('Q')\n",
    "    final['month'] = final.Index.dt.to_period('M')\n",
    "    final['price_log'] = np.log(final['price'])\n",
    "    final = final.sort_values(['Index'])\n",
    "    final['price_log_pre'] = final['price_log'].shift(1)\n",
    "    final['log_return'] = final['price_log'] - final['price_log_pre']\n",
    "    \n",
    "    \n",
    "    return final\n",
    "    "
   ]
  },
  {
   "cell_type": "code",
   "execution_count": 6,
   "metadata": {},
   "outputs": [
    {
     "data": {
      "text/html": [
       "<div>\n",
       "<style scoped>\n",
       "    .dataframe tbody tr th:only-of-type {\n",
       "        vertical-align: middle;\n",
       "    }\n",
       "\n",
       "    .dataframe tbody tr th {\n",
       "        vertical-align: top;\n",
       "    }\n",
       "\n",
       "    .dataframe thead th {\n",
       "        text-align: right;\n",
       "    }\n",
       "</style>\n",
       "<table border=\"1\" class=\"dataframe\">\n",
       "  <thead>\n",
       "    <tr style=\"text-align: right;\">\n",
       "      <th></th>\n",
       "      <th>Index</th>\n",
       "      <th>day</th>\n",
       "      <th>time</th>\n",
       "      <th>qtr</th>\n",
       "      <th>month</th>\n",
       "      <th>price</th>\n",
       "      <th>price_log</th>\n",
       "      <th>price_log_pre</th>\n",
       "      <th>log_return</th>\n",
       "    </tr>\n",
       "  </thead>\n",
       "  <tbody>\n",
       "    <tr>\n",
       "      <th>0</th>\n",
       "      <td>2018-04-02 09:30:00</td>\n",
       "      <td>2018-04-02</td>\n",
       "      <td>09:30:00</td>\n",
       "      <td>2018Q2</td>\n",
       "      <td>2018-04</td>\n",
       "      <td>254.60</td>\n",
       "      <td>5.539694</td>\n",
       "      <td>NaN</td>\n",
       "      <td>NaN</td>\n",
       "    </tr>\n",
       "    <tr>\n",
       "      <th>1</th>\n",
       "      <td>2018-04-02 09:35:00</td>\n",
       "      <td>2018-04-02</td>\n",
       "      <td>09:35:00</td>\n",
       "      <td>2018Q2</td>\n",
       "      <td>2018-04</td>\n",
       "      <td>252.75</td>\n",
       "      <td>5.532401</td>\n",
       "      <td>5.539694</td>\n",
       "      <td>-0.007293</td>\n",
       "    </tr>\n",
       "    <tr>\n",
       "      <th>2</th>\n",
       "      <td>2018-04-02 09:40:00</td>\n",
       "      <td>2018-04-02</td>\n",
       "      <td>09:40:00</td>\n",
       "      <td>2018Q2</td>\n",
       "      <td>2018-04</td>\n",
       "      <td>249.60</td>\n",
       "      <td>5.519860</td>\n",
       "      <td>5.532401</td>\n",
       "      <td>-0.012541</td>\n",
       "    </tr>\n",
       "    <tr>\n",
       "      <th>3</th>\n",
       "      <td>2018-04-02 09:45:00</td>\n",
       "      <td>2018-04-02</td>\n",
       "      <td>09:45:00</td>\n",
       "      <td>2018Q2</td>\n",
       "      <td>2018-04</td>\n",
       "      <td>248.80</td>\n",
       "      <td>5.516649</td>\n",
       "      <td>5.519860</td>\n",
       "      <td>-0.003210</td>\n",
       "    </tr>\n",
       "    <tr>\n",
       "      <th>4</th>\n",
       "      <td>2018-04-02 09:50:00</td>\n",
       "      <td>2018-04-02</td>\n",
       "      <td>09:50:00</td>\n",
       "      <td>2018Q2</td>\n",
       "      <td>2018-04</td>\n",
       "      <td>247.86</td>\n",
       "      <td>5.512864</td>\n",
       "      <td>5.516649</td>\n",
       "      <td>-0.003785</td>\n",
       "    </tr>\n",
       "  </tbody>\n",
       "</table>\n",
       "</div>"
      ],
      "text/plain": [
       "                Index        day      time     qtr    month   price  \\\n",
       "0 2018-04-02 09:30:00 2018-04-02  09:30:00  2018Q2  2018-04  254.60   \n",
       "1 2018-04-02 09:35:00 2018-04-02  09:35:00  2018Q2  2018-04  252.75   \n",
       "2 2018-04-02 09:40:00 2018-04-02  09:40:00  2018Q2  2018-04  249.60   \n",
       "3 2018-04-02 09:45:00 2018-04-02  09:45:00  2018Q2  2018-04  248.80   \n",
       "4 2018-04-02 09:50:00 2018-04-02  09:50:00  2018Q2  2018-04  247.86   \n",
       "\n",
       "   price_log  price_log_pre  log_return  \n",
       "0   5.539694            NaN         NaN  \n",
       "1   5.532401       5.539694   -0.007293  \n",
       "2   5.519860       5.532401   -0.012541  \n",
       "3   5.516649       5.519860   -0.003210  \n",
       "4   5.512864       5.516649   -0.003785  "
      ]
     },
     "execution_count": 6,
     "metadata": {},
     "output_type": "execute_result"
    }
   ],
   "source": [
    "final = break_data(tsla, period = '2018Q2')\n",
    "final.head()"
   ]
  },
  {
   "cell_type": "markdown",
   "metadata": {},
   "source": [
    "### Part 3 - DF statistics without jump"
   ]
  },
  {
   "cell_type": "code",
   "execution_count": 7,
   "metadata": {},
   "outputs": [],
   "source": [
    "def DF_Statistics(data):\n",
    "    \n",
    "    data = data.dropna()\n",
    "    n = data.shape[0]\n",
    "    \n",
    "    log_return = data['log_return']\n",
    "    log_price_pre = data['price_log_pre']\n",
    "    \n",
    "    alpha = np.ones(n)  # alpha = 1\n",
    "    beta = np.arange(n)  # beta*t = [0, 1, 2, ...]\n",
    "    \n",
    "    X = np.column_stack((log_price_pre, alpha))\n",
    "    results = sm.OLS(log_return, X).fit()\n",
    "    \n",
    "    return results.tvalues[0]"
   ]
  },
  {
   "cell_type": "code",
   "execution_count": 8,
   "metadata": {},
   "outputs": [
    {
     "data": {
      "text/plain": [
       "-2.5516555887320047"
      ]
     },
     "execution_count": 8,
     "metadata": {},
     "output_type": "execute_result"
    }
   ],
   "source": [
    "DF_Statistics(final) "
   ]
  },
  {
   "cell_type": "markdown",
   "metadata": {},
   "source": [
    "### Part 4 - Jump Detection"
   ]
  },
  {
   "cell_type": "code",
   "execution_count": 9,
   "metadata": {},
   "outputs": [],
   "source": [
    "def jump_detection(df, returns = 'log_return', alpha = 0.75):\n",
    "    \n",
    "    '''  \n",
    "    Detect jumps\n",
    "\n",
    "    Args:\n",
    "    df - dataframe\n",
    "    returns - \n",
    "    alpha\n",
    "\n",
    "    Returns: \n",
    "    res - dataframe\n",
    "    \n",
    "    '''\n",
    "        \n",
    "        \n",
    "    day = df.day.unique()\n",
    "    time =  df.time.unique()\n",
    "    D = len(day) # no. of days\n",
    "    Obs = len(time) # no. of observation in each day\n",
    "    \n",
    "    log_return = df[returns]\n",
    "    N = len(log_return)\n",
    "    \n",
    "    r = [np.nan] * N\n",
    "    m = [np.nan] * N\n",
    "    r_star = [np.nan] * N\n",
    "    r_star_mul = [np.nan] * N\n",
    "    BV = [np.nan] * N\n",
    "    sigma = [np.nan] * N\n",
    "    U = [np.nan] * N\n",
    "    M = int(np.sqrt(Obs)) # Look at past M value\n",
    "    i = math.ceil(M)\n",
    "    \n",
    "    while i <= N-1:\n",
    "        r[i] = log_return[i]\n",
    "        # print(r[i])\n",
    "        m[i] = np.nanmedian(log_return[(i-M):i])\n",
    "        # print(m[i])\n",
    "        r_star[i] = r[i] - m[i]\n",
    "        # print(r_star[i])\n",
    "        r_star_mul[i] = abs(r_star[i-1]) * abs(r_star[i]) if r_star[i-1] != np.nan else np.nan\n",
    "        # print(r_star_mul[i])\n",
    "        BV[i] = np.nansum(r_star_mul[(i-M+2):(i+1)]) * M / (M-1) * np.pi / 2 if r_star_mul[i] != np.nan else np.nan\n",
    "        # print(BV[i])\n",
    "        sigma[i] = np.sqrt(BV[i] / M) if BV[i] != np.nan else np.nan\n",
    "        # print(sigma[i])\n",
    "        U[i] = r_star[i] / sigma[i] if sigma[i] != np.nan else np.nan\n",
    "        # print(U[i])\n",
    "        i = i+ 1\n",
    "        # print(i)\n",
    "        # print('---------')\n",
    "    \n",
    "    U_abs = list(map(abs, U))\n",
    "    L = N\n",
    "    CV = (2 * np.log(L))**(1/2) - 1/2 * (2*np.log(L))**(-1/2)*(np.log(4*np.pi) + np.log(np.log(L))) + (2 * np.log(L))**(-1/2) * (-np.log(-np.log(1-alpha/2)))\n",
    "    jumps = (U_abs >= CV)\n",
    "    res = df[['day', 'time']]\n",
    "    res['jump'] = jumps\n",
    "    \n",
    "    res = df.merge(res, how = 'inner')\n",
    "    res['jump'] = res['jump'].astype(int)\n",
    "    res = res.dropna()\n",
    "    \n",
    "    \n",
    "    return res \n",
    "    "
   ]
  },
  {
   "cell_type": "code",
   "execution_count": 10,
   "metadata": {},
   "outputs": [],
   "source": [
    "jumps = jump_detection(final, returns = 'log_return', alpha = 0.75)"
   ]
  },
  {
   "cell_type": "code",
   "execution_count": 11,
   "metadata": {},
   "outputs": [
    {
     "data": {
      "text/html": [
       "<div>\n",
       "<style scoped>\n",
       "    .dataframe tbody tr th:only-of-type {\n",
       "        vertical-align: middle;\n",
       "    }\n",
       "\n",
       "    .dataframe tbody tr th {\n",
       "        vertical-align: top;\n",
       "    }\n",
       "\n",
       "    .dataframe thead th {\n",
       "        text-align: right;\n",
       "    }\n",
       "</style>\n",
       "<table border=\"1\" class=\"dataframe\">\n",
       "  <thead>\n",
       "    <tr style=\"text-align: right;\">\n",
       "      <th></th>\n",
       "      <th>Index</th>\n",
       "      <th>day</th>\n",
       "      <th>time</th>\n",
       "      <th>qtr</th>\n",
       "      <th>month</th>\n",
       "      <th>price</th>\n",
       "      <th>price_log</th>\n",
       "      <th>price_log_pre</th>\n",
       "      <th>log_return</th>\n",
       "      <th>jump</th>\n",
       "    </tr>\n",
       "  </thead>\n",
       "  <tbody>\n",
       "    <tr>\n",
       "      <th>1</th>\n",
       "      <td>2018-04-02 09:35:00</td>\n",
       "      <td>2018-04-02</td>\n",
       "      <td>09:35:00</td>\n",
       "      <td>2018Q2</td>\n",
       "      <td>2018-04</td>\n",
       "      <td>252.75</td>\n",
       "      <td>5.532401</td>\n",
       "      <td>5.539694</td>\n",
       "      <td>-0.007293</td>\n",
       "      <td>0</td>\n",
       "    </tr>\n",
       "    <tr>\n",
       "      <th>2</th>\n",
       "      <td>2018-04-02 09:40:00</td>\n",
       "      <td>2018-04-02</td>\n",
       "      <td>09:40:00</td>\n",
       "      <td>2018Q2</td>\n",
       "      <td>2018-04</td>\n",
       "      <td>249.60</td>\n",
       "      <td>5.519860</td>\n",
       "      <td>5.532401</td>\n",
       "      <td>-0.012541</td>\n",
       "      <td>0</td>\n",
       "    </tr>\n",
       "    <tr>\n",
       "      <th>3</th>\n",
       "      <td>2018-04-02 09:45:00</td>\n",
       "      <td>2018-04-02</td>\n",
       "      <td>09:45:00</td>\n",
       "      <td>2018Q2</td>\n",
       "      <td>2018-04</td>\n",
       "      <td>248.80</td>\n",
       "      <td>5.516649</td>\n",
       "      <td>5.519860</td>\n",
       "      <td>-0.003210</td>\n",
       "      <td>0</td>\n",
       "    </tr>\n",
       "    <tr>\n",
       "      <th>4</th>\n",
       "      <td>2018-04-02 09:50:00</td>\n",
       "      <td>2018-04-02</td>\n",
       "      <td>09:50:00</td>\n",
       "      <td>2018Q2</td>\n",
       "      <td>2018-04</td>\n",
       "      <td>247.86</td>\n",
       "      <td>5.512864</td>\n",
       "      <td>5.516649</td>\n",
       "      <td>-0.003785</td>\n",
       "      <td>0</td>\n",
       "    </tr>\n",
       "    <tr>\n",
       "      <th>5</th>\n",
       "      <td>2018-04-02 09:55:00</td>\n",
       "      <td>2018-04-02</td>\n",
       "      <td>09:55:00</td>\n",
       "      <td>2018Q2</td>\n",
       "      <td>2018-04</td>\n",
       "      <td>249.86</td>\n",
       "      <td>5.520901</td>\n",
       "      <td>5.512864</td>\n",
       "      <td>0.008037</td>\n",
       "      <td>0</td>\n",
       "    </tr>\n",
       "  </tbody>\n",
       "</table>\n",
       "</div>"
      ],
      "text/plain": [
       "                Index        day      time     qtr    month   price  \\\n",
       "1 2018-04-02 09:35:00 2018-04-02  09:35:00  2018Q2  2018-04  252.75   \n",
       "2 2018-04-02 09:40:00 2018-04-02  09:40:00  2018Q2  2018-04  249.60   \n",
       "3 2018-04-02 09:45:00 2018-04-02  09:45:00  2018Q2  2018-04  248.80   \n",
       "4 2018-04-02 09:50:00 2018-04-02  09:50:00  2018Q2  2018-04  247.86   \n",
       "5 2018-04-02 09:55:00 2018-04-02  09:55:00  2018Q2  2018-04  249.86   \n",
       "\n",
       "   price_log  price_log_pre  log_return  jump  \n",
       "1   5.532401       5.539694   -0.007293     0  \n",
       "2   5.519860       5.532401   -0.012541     0  \n",
       "3   5.516649       5.519860   -0.003210     0  \n",
       "4   5.512864       5.516649   -0.003785     0  \n",
       "5   5.520901       5.512864    0.008037     0  "
      ]
     },
     "execution_count": 11,
     "metadata": {},
     "output_type": "execute_result"
    }
   ],
   "source": [
    "jumps.head()"
   ]
  },
  {
   "cell_type": "markdown",
   "metadata": {},
   "source": [
    "### Part 5 - DF statistics with jump"
   ]
  },
  {
   "cell_type": "code",
   "execution_count": 12,
   "metadata": {},
   "outputs": [],
   "source": [
    "def DF_Statistics_Jump(data):\n",
    "    \n",
    "    n = data.shape[0]\n",
    "    \n",
    "    log_return = data['log_return']\n",
    "    log_price_pre = data['price_log_pre']\n",
    "    jump = data['jump']\n",
    "    \n",
    "    alpha = np.ones(n)  # alpha = 1\n",
    "    beta = np.arange(n)  # beta*t = [0, 1, 2, ...]\n",
    "    \n",
    "    X = np.column_stack((log_price_pre, jump, alpha))\n",
    "    results = sm.OLS(log_return, X).fit()\n",
    "    \n",
    "    return results.tvalues[0]"
   ]
  },
  {
   "cell_type": "code",
   "execution_count": 13,
   "metadata": {},
   "outputs": [
    {
     "data": {
      "text/plain": [
       "-2.5001733056153133"
      ]
     },
     "execution_count": 13,
     "metadata": {},
     "output_type": "execute_result"
    }
   ],
   "source": [
    "DF_Statistics_Jump(data = jumps)"
   ]
  },
  {
   "cell_type": "markdown",
   "metadata": {},
   "source": [
    "### Part 6 - DF Critical Value using Monte Carlo Simulation "
   ]
  },
  {
   "cell_type": "code",
   "execution_count": 14,
   "metadata": {},
   "outputs": [],
   "source": [
    "def generate_ar(n, phis, sigma=1):\n",
    "    \n",
    "    \n",
    "    '''\n",
    "        \n",
    "    Generates an autoregressive series.\n",
    "\n",
    "    The code follows: y_{t} = \\phi_{1} y_{t-1} + \\phi_{2} y_{t-2} + ... + \\phi_{p} y_{t-p} + \\epsilon_{t}\n",
    "\n",
    "    Args:\n",
    "        n: length of the series.\n",
    "        phis: list of thetas, in the order \\phi_{1}, \\phi_{2}, ..., \\phi_{p}.\n",
    "        sigma: standard deviation of the innovations (optional).\n",
    "\n",
    "    Returns:\n",
    "        np.Array with the series.\n",
    "    \n",
    "    '''\n",
    "\n",
    "    p = len(phis)\n",
    "    adj_n = n + p  # We add q values because at the beginning we have no phis available.\n",
    "    e_series = np.random.normal(0, sigma, size=adj_n)  # Generating a white noise.\n",
    "\n",
    "    ar = [e_series[0]]  # We start the series with a random value\n",
    "    for i in range(1, adj_n):\n",
    "        visible_phis = phis[0:min(p, i)]  # At first, we only \"see\" some of the phis.\n",
    "        visible_series = ar[i - min(p, i):i]  # The same happens to the white noise.\n",
    "        reversed_phis = visible_phis[::-1]\n",
    "\n",
    "        # Main equation.\n",
    "        ar_t = e_series[i] + np.dot(reversed_phis, visible_series)\n",
    "\n",
    "        ar.append(ar_t)\n",
    "\n",
    "    ar = ar[p:]  # Dropping the first values that did not use all the phis.\n",
    "\n",
    "    return ar\n",
    "\n"
   ]
  },
  {
   "cell_type": "code",
   "execution_count": 15,
   "metadata": {},
   "outputs": [],
   "source": [
    "def dfcv_simulation(data, rep, jump_flag = True ):\n",
    "    \n",
    "    '''\n",
    "    \n",
    "    Generate critical value of DF distribution by monte carlo simulation\n",
    "    \n",
    "    \n",
    "    '''\n",
    "    \n",
    "    np.random.seed(10)\n",
    "    \n",
    "    df = data\n",
    "    start = df.day.min()\n",
    "    end = df.day.max()\n",
    "    repetitions = rep\n",
    "    series_length = data.shape[0]\n",
    "    percentiles = [2.5, 97.5]\n",
    "    t_values = []\n",
    "    \n",
    "    for _ in range(repetitions):  \n",
    "        y = generate_ar(series_length, [1])\n",
    "        delta_y = np.diff(y)  # delta_y_{t} = y_{t+1} - y_{t}\n",
    "        alpha = np.ones(series_length)  # alpha = 1\n",
    "        \n",
    "        if jump_flag == True:\n",
    "            jumps_value = df['jump'].values\n",
    "            regressors = np.column_stack((y, jumps_value, alpha))[:-1]\n",
    "        else:\n",
    "            regressors = np.column_stack((y, alpha))[:-1]\n",
    "        \n",
    "        results = sm.OLS(delta_y, regressors).fit()\n",
    "        t_values.append(results.tvalues[0])\n",
    "\n",
    "    #index = pd.MultiIndex.from_product([[start], [end]])\n",
    "    #df_table = pd.DataFrame(columns=percentiles, index=index)\n",
    "    \n",
    "    res = []\n",
    "    \n",
    "    for percentile in percentiles:\n",
    "        critical_t_value = np.percentile(t_values, percentile)\n",
    "        res.append(critical_t_value)\n",
    "        # df_table.loc[(start, end), percentile] = critical_t_value\n",
    "        \n",
    "    return res # df_table"
   ]
  },
  {
   "cell_type": "code",
   "execution_count": 16,
   "metadata": {},
   "outputs": [
    {
     "data": {
      "text/plain": [
       "[-2.483517128434954, 0.5670834013039572]"
      ]
     },
     "execution_count": 16,
     "metadata": {},
     "output_type": "execute_result"
    }
   ],
   "source": [
    "# CV without jumps\n",
    "dfcv_simulation(final, rep = 10, jump_flag = False )"
   ]
  },
  {
   "cell_type": "code",
   "execution_count": 17,
   "metadata": {},
   "outputs": [
    {
     "data": {
      "text/plain": [
       "[-2.8452384776298536, -0.19542959472079327]"
      ]
     },
     "execution_count": 17,
     "metadata": {},
     "output_type": "execute_result"
    }
   ],
   "source": [
    "# CV with jumps\n",
    "dfcv_simulation(jumps, rep = 10, jump_flag = True)"
   ]
  },
  {
   "cell_type": "markdown",
   "metadata": {},
   "source": [
    "### Part 7 - Bubble detection"
   ]
  },
  {
   "cell_type": "code",
   "execution_count": 18,
   "metadata": {},
   "outputs": [],
   "source": [
    "def bubble_check(path = 'TSLA.csv'):\n",
    "    \n",
    "    '''\n",
    "    \n",
    "    Buble check\n",
    "    \n",
    "    \n",
    "    \n",
    "    \n",
    "    '''\n",
    "    \n",
    "    # 1. Load data\n",
    "    data = load_data(path)\n",
    "    \n",
    "    # 2. Generate dataframe for outputs\n",
    "    df_jump = pd.DataFrame()\n",
    "    results = pd.DataFrame({'Start': pd.Series([], dtype='<M8[ns]'),\n",
    "                            'End': pd.Series([], dtype='<M8[ns]'),\n",
    "                            'Count': pd.Series([], dtype='int'),\n",
    "                            'DF': pd.Series([], dtype='float'),\n",
    "                            'Left_CV': pd.Series([], dtype='float'),\n",
    "                            'Right_CV': pd.Series([], dtype='float'),\n",
    "                            'DF_J': pd.Series([], dtype='float'),\n",
    "                            'Left_CV_J': pd.Series([], dtype='float'),\n",
    "                            'Right_CV_J': pd.Series([], dtype='float'),\n",
    "                            'Jumps': pd.Series([], dtype='int')})\n",
    "    \n",
    "    \n",
    "    # 3. brek data into month\n",
    "    cohort = data.month.unique()\n",
    "    \n",
    "    \n",
    "    for i in range(len(cohort)):\n",
    "\n",
    "        df = break_data(data, period = cohort[i])\n",
    "        \n",
    "        count = df.shape[0]\n",
    "        start = df.day.min()\n",
    "        end = df.day.max()\n",
    "        \n",
    "        df_score = DF_Statistics(df)\n",
    "        CV = dfcv_simulation(df, rep = 10, jump_flag = False )\n",
    "        \n",
    "        jumps = jump_detection(df, returns = 'log_return', alpha = 0.75)\n",
    "        df_jump = df_jump.append(jumps)\n",
    "        df_score_jump = DF_Statistics_Jump(data = jumps)\n",
    "        CVJ = dfcv_simulation(jumps, rep = 10, jump_flag = True)\n",
    "        no_jumps = jumps.jump.sum()\n",
    "        \n",
    "        results.loc[i, 'Start'] = start\n",
    "        results.loc[i, 'End'] = end\n",
    "        results.loc[i, 'Count'] = count\n",
    "        results.loc[i, 'DF'] = round(df_score,3)\n",
    "        results.loc[i, 'Left_CV'] = round(CV[0],3)\n",
    "        results.loc[i, 'Right_CV'] = round(CV[1],3)\n",
    "        \n",
    "        results.loc[i, 'DF_J'] = round(df_score_jump,3)\n",
    "        results.loc[i, 'Left_CV_J'] = round(CVJ[0],3)\n",
    "        results.loc[i, 'Right_CV_J'] = round(CVJ[1],3)\n",
    "        results.loc[i, 'Jumps'] = no_jumps\n",
    "        results['bubble'] = (results.DF_J > results.Right_CV_J) & (results.DF <= results.Right_CV)\n",
    "        #results.to_csv('bubble_test.csv')\n",
    "        \n",
    "    # Visulization\n",
    "    plt.figure(figsize = (25,5))\n",
    "    plt.plot('Index', 'price', data=df_jump)\n",
    "    IS = df_jump[df_jump['jump'] == 1]\n",
    "    plt.plot(IS[\"Index\"], IS[[\"price\"]], \"ro\", markersize=1)\n",
    "    plt.savefig(\"jumps.png\")\n",
    "\n",
    "     \n",
    "    return results, df_jump"
   ]
  },
  {
   "cell_type": "code",
   "execution_count": 23,
   "metadata": {},
   "outputs": [
    {
     "data": {
      "text/plain": [
       "month\n",
       "2017-04    0.024499\n",
       "2017-05    0.019633\n",
       "2017-06    0.013241\n",
       "2017-07    0.018448\n",
       "2017-08    0.011564\n",
       "2017-09    0.015833\n",
       "2017-10    0.018423\n",
       "2017-11    0.015524\n",
       "2017-12    0.016000\n",
       "2018-01    0.013872\n",
       "2018-02    0.009852\n",
       "2018-03    0.015743\n",
       "2018-04    0.013973\n",
       "2018-05    0.016695\n",
       "2018-06    0.015078\n",
       "2018-07    0.015700\n",
       "2018-08    0.020601\n",
       "2018-09    0.019333\n",
       "2018-10    0.018172\n",
       "2018-11    0.013358\n",
       "2018-12    0.017473\n",
       "2019-01    0.016285\n",
       "2019-02    0.019081\n",
       "2019-03    0.018697\n",
       "2019-04    0.015682\n",
       "2019-05    0.014968\n",
       "2019-06    0.016466\n",
       "2019-07    0.016213\n",
       "2019-08    0.015571\n",
       "2019-09    0.020899\n",
       "2019-10    0.014868\n",
       "2019-11    0.021154\n",
       "2019-12    0.022961\n",
       "2020-01    0.020833\n",
       "2020-02    0.021378\n",
       "2020-03    0.016166\n",
       "2020-04    0.014475\n",
       "2020-05    0.013300\n",
       "2020-06    0.014968\n",
       "2020-07    0.019574\n",
       "2020-08    0.017502\n",
       "2020-09    0.015719\n",
       "2020-10    0.012090\n",
       "2020-11    0.012579\n",
       "2020-12    0.013833\n",
       "Freq: M, Name: jump, dtype: float64"
      ]
     },
     "execution_count": 23,
     "metadata": {},
     "output_type": "execute_result"
    }
   ],
   "source": [
    "df_jump.groupby('month').jump.mean()"
   ]
  },
  {
   "cell_type": "code",
   "execution_count": 20,
   "metadata": {},
   "outputs": [
    {
     "data": {
      "text/plain": [
       "0    71949\n",
       "1     1211\n",
       "Name: jump, dtype: int64"
      ]
     },
     "execution_count": 20,
     "metadata": {},
     "output_type": "execute_result"
    }
   ],
   "source": [
    "df_jump.jump.value_counts()"
   ]
  },
  {
   "cell_type": "code",
   "execution_count": 19,
   "metadata": {},
   "outputs": [
    {
     "name": "stdout",
     "output_type": "stream",
     "text": [
      "month\n",
      "2015-09       3\n",
      "2015-10       7\n",
      "2015-11      27\n",
      "2015-12      19\n",
      "2016-01      25\n",
      "2016-02      73\n",
      "2016-03      84\n",
      "2016-04     102\n",
      "2016-05     129\n",
      "2016-06     128\n",
      "2016-07     104\n",
      "2016-08     124\n",
      "2016-09     108\n",
      "2016-10      83\n",
      "2016-11     115\n",
      "2016-12     167\n",
      "2017-01     165\n",
      "2017-02     179\n",
      "2017-03     178\n",
      "2017-04    1370\n",
      "Freq: M, Name: price, dtype: int64\n",
      "(75137, 6)\n",
      "(73317, 6)\n"
     ]
    },
    {
     "data": {
      "image/png": "[encoded data removed]",
      "text/plain": [
       "<Figure size 1800x360 with 1 Axes>"
      ]
     },
     "metadata": {
      "needs_background": "light"
     },
     "output_type": "display_data"
    }
   ],
   "source": [
    "if __name__ == '__main__':\n",
    "    results,df_jump = bubble_check()"
   ]
  },
  {
   "cell_type": "code",
   "execution_count": null,
   "metadata": {},
   "outputs": [],
   "source": []
  }
 ],
 "metadata": {
  "kernelspec": {
   "display_name": "Python 3",
   "language": "python",
   "name": "python3"
  },
  "language_info": {
   "codemirror_mode": {
    "name": "ipython",
    "version": 3
   },
   "file_extension": ".py",
   "mimetype": "text/x-python",
   "name": "python",
   "nbconvert_exporter": "python",
   "pygments_lexer": "ipython3",
   "version": "3.7.7"
  }
 },
 "nbformat": 4,
 "nbformat_minor": 4
}
